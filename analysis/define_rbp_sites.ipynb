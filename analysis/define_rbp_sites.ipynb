{
 "cells": [
  {
   "cell_type": "markdown",
   "metadata": {},
   "source": [
    "## Define receptor binding pocket contact sites"
   ]
  },
  {
   "cell_type": "code",
   "execution_count": 1,
   "metadata": {},
   "outputs": [],
   "source": [
    "import numpy as np\n",
    "import pandas as pd\n",
    "from Bio import PDB"
   ]
  },
  {
   "cell_type": "code",
   "execution_count": 4,
   "metadata": {},
   "outputs": [
    {
     "data": {
      "text/html": [
       "<div>\n",
       "<style scoped>\n",
       "    .dataframe tbody tr th:only-of-type {\n",
       "        vertical-align: middle;\n",
       "    }\n",
       "\n",
       "    .dataframe tbody tr th {\n",
       "        vertical-align: top;\n",
       "    }\n",
       "\n",
       "    .dataframe thead th {\n",
       "        text-align: right;\n",
       "    }\n",
       "</style>\n",
       "<table border=\"1\" class=\"dataframe\">\n",
       "  <thead>\n",
       "    <tr style=\"text-align: right;\">\n",
       "      <th></th>\n",
       "      <th>chain</th>\n",
       "      <th>residue</th>\n",
       "      <th>residue_number</th>\n",
       "      <th>atom</th>\n",
       "      <th>sia_residue</th>\n",
       "      <th>sia_residue_number</th>\n",
       "      <th>sia_atom</th>\n",
       "      <th>distance</th>\n",
       "    </tr>\n",
       "  </thead>\n",
       "  <tbody>\n",
       "    <tr>\n",
       "      <th>0</th>\n",
       "      <td>A</td>\n",
       "      <td>ASN</td>\n",
       "      <td>8</td>\n",
       "      <td>N</td>\n",
       "      <td>SIA</td>\n",
       "      <td>5</td>\n",
       "      <td>C1</td>\n",
       "      <td>109.690216</td>\n",
       "    </tr>\n",
       "    <tr>\n",
       "      <th>1</th>\n",
       "      <td>A</td>\n",
       "      <td>ASN</td>\n",
       "      <td>8</td>\n",
       "      <td>N</td>\n",
       "      <td>SIA</td>\n",
       "      <td>5</td>\n",
       "      <td>C2</td>\n",
       "      <td>111.161263</td>\n",
       "    </tr>\n",
       "    <tr>\n",
       "      <th>2</th>\n",
       "      <td>A</td>\n",
       "      <td>ASN</td>\n",
       "      <td>8</td>\n",
       "      <td>N</td>\n",
       "      <td>SIA</td>\n",
       "      <td>5</td>\n",
       "      <td>C3</td>\n",
       "      <td>112.014168</td>\n",
       "    </tr>\n",
       "    <tr>\n",
       "      <th>3</th>\n",
       "      <td>A</td>\n",
       "      <td>ASN</td>\n",
       "      <td>8</td>\n",
       "      <td>N</td>\n",
       "      <td>SIA</td>\n",
       "      <td>5</td>\n",
       "      <td>C4</td>\n",
       "      <td>111.719551</td>\n",
       "    </tr>\n",
       "    <tr>\n",
       "      <th>4</th>\n",
       "      <td>A</td>\n",
       "      <td>ASN</td>\n",
       "      <td>8</td>\n",
       "      <td>N</td>\n",
       "      <td>SIA</td>\n",
       "      <td>5</td>\n",
       "      <td>C5</td>\n",
       "      <td>111.961769</td>\n",
       "    </tr>\n",
       "  </tbody>\n",
       "</table>\n",
       "</div>"
      ],
      "text/plain": [
       "  chain residue  residue_number atom sia_residue  sia_residue_number sia_atom  \\\n",
       "0     A     ASN               8    N         SIA                   5       C1   \n",
       "1     A     ASN               8    N         SIA                   5       C2   \n",
       "2     A     ASN               8    N         SIA                   5       C3   \n",
       "3     A     ASN               8    N         SIA                   5       C4   \n",
       "4     A     ASN               8    N         SIA                   5       C5   \n",
       "\n",
       "     distance  \n",
       "0  109.690216  \n",
       "1  111.161263  \n",
       "2  112.014168  \n",
       "3  111.719551  \n",
       "4  111.961769  "
      ]
     },
     "execution_count": 4,
     "metadata": {},
     "output_type": "execute_result"
    }
   ],
   "source": [
    "# Parse PDB\n",
    "parser = PDB.PDBParser(QUIET=True)\n",
    "structure = parser.get_structure(\"HA\", \"structures/pdbs/2yp4.pdb1\")\n",
    "\n",
    "standard_atoms = []\n",
    "sia_atoms = []\n",
    "\n",
    "# Loop through structure to separate standard and SIA residues\n",
    "for model in structure:\n",
    "    for chain in model:\n",
    "        for residue in chain:\n",
    "            residue_name = residue.resname\n",
    "            residue_num = residue.id[1]\n",
    "            residue_type = \"Non-standard\" if residue_name not in PDB.Polypeptide.standard_aa_names else \"Standard\"\n",
    "            \n",
    "            for atom in residue:\n",
    "                atom_info = {\n",
    "                    \"chain\": chain.id,\n",
    "                    \"residue\": residue_name,\n",
    "                    \"residue_number\": residue_num,\n",
    "                    \"atom\": atom.name,\n",
    "                    \"coord\": atom.coord\n",
    "                }\n",
    "                \n",
    "                if residue_name == \"SIA\":\n",
    "                    sia_atoms.append(atom_info)\n",
    "                elif residue_type == \"Standard\":\n",
    "                    standard_atoms.append(atom_info)\n",
    "\n",
    "# Calculate distances\n",
    "distance_list = []\n",
    "\n",
    "for s_atom in standard_atoms:\n",
    "    for sia_atom in sia_atoms:\n",
    "        dist = np.linalg.norm(s_atom[\"coord\"] - sia_atom[\"coord\"])\n",
    "        distance_list.append([\n",
    "            s_atom[\"chain\"],\n",
    "            s_atom[\"residue\"],\n",
    "            s_atom[\"residue_number\"],\n",
    "            s_atom[\"atom\"],\n",
    "            sia_atom[\"residue\"],\n",
    "            sia_atom[\"residue_number\"],\n",
    "            sia_atom[\"atom\"],\n",
    "            dist\n",
    "        ])\n",
    "\n",
    "# Create DataFrame\n",
    "df_distances = pd.DataFrame(distance_list, columns=[\n",
    "    \"chain\", \"residue\", \"residue_number\", \"atom\",\n",
    "    \"sia_residue\", \"sia_residue_number\", \"sia_atom\", \"distance\"\n",
    "])\n",
    "\n",
    "df_distances.head()"
   ]
  },
  {
   "cell_type": "code",
   "execution_count": 6,
   "metadata": {},
   "outputs": [
    {
     "data": {
      "text/plain": [
       "array([ 98, 134, 135, 136, 137, 145, 153, 194, 226, 228])"
      ]
     },
     "execution_count": 6,
     "metadata": {},
     "output_type": "execute_result"
    }
   ],
   "source": [
    "df_distances.query('distance < 4')['residue_number'].unique()"
   ]
  }
 ],
 "metadata": {
  "kernelspec": {
   "display_name": "dms-vep-pipeline-3",
   "language": "python",
   "name": "python3"
  },
  "language_info": {
   "codemirror_mode": {
    "name": "ipython",
    "version": 3
   },
   "file_extension": ".py",
   "mimetype": "text/x-python",
   "name": "python",
   "nbconvert_exporter": "python",
   "pygments_lexer": "ipython3",
   "version": "3.11.9"
  },
  "orig_nbformat": 4
 },
 "nbformat": 4,
 "nbformat_minor": 2
}
